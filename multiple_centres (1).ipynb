{
  "nbformat": 4,
  "nbformat_minor": 0,
  "metadata": {
    "colab": {
      "name": "multiple_centres.ipynb",
      "provenance": []
    },
    "kernelspec": {
      "name": "python3",
      "display_name": "Python 3"
    },
    "language_info": {
      "name": "python"
    }
  },
  "cells": [
    {
      "cell_type": "code",
      "metadata": {
        "id": "9U-491Fqol0a",
        "colab": {
          "base_uri": "https://localhost:8080/"
        },
        "outputId": "5ad855d9-312e-4681-ba92-1269fa150407"
      },
      "source": [
        "import random\n",
        "import matplotlib\n",
        "import math\n",
        "import matplotlib.pyplot as plt\n",
        "xlst = []\n",
        "ylst = []\n",
        "for i in range(0,10000):\n",
        "  x = random.random()\n",
        "  y = random.random()\n",
        "  xlst.append(x)\n",
        "  ylst.append(y)\n",
        "rmin=float(input(\"Enter minimum radius\"))\n",
        "rmax=float(input(\"Enter maximum radius\"))\n",
        "cnum=0\n",
        "f=100\n",
        "xnew = []\n",
        "ynew = []\n",
        "for i in range(10000):\n",
        "    x,y = xlst[i], ylst[i]\n",
        "    if(x>rmin and x<rmax and y>rmin and y<rmax):\n",
        "      cnum+=1\n",
        "      xnew.append(x)\n",
        "      ynew.append(y)\n",
        "print(cnum)\n",
        "cx=random.sample(xnew, f)\n",
        "cy=random.sample(ynew, f)"
      ],
      "execution_count": 2,
      "outputs": [
        {
          "output_type": "stream",
          "name": "stdout",
          "text": [
            "Enter minimum radius0.05\n",
            "Enter maximum radius0.95\n",
            "8058\n"
          ]
        }
      ]
    },
    {
      "cell_type": "code",
      "metadata": {
        "id": "7Xsi8nr6oo5v"
      },
      "source": [
        "def checkrange(r):\n",
        " n=0\n",
        " for j in range(100):\n",
        "    c1,c2 = cx[j], cy[j]\n",
        "    for i in range(10000):\n",
        "      x,y = xlst[i], ylst[i]\n",
        "      s=(x-c1)**2+(y-c2)**2-r**2\n",
        "      if(s<0):\n",
        "        n+=1  \n",
        "      if(n>0):\n",
        "       c=math.log10(n/r**2)  \n",
        "       d=math.log10(r)\n",
        "  \n",
        "       clst.append(c)\n",
        "       dlst.append(d)\n",
        "       print(len(clst))\n",
        "       print(len(dlst))\n",
        "       return(clst)\n",
        "       return(dlst)"
      ],
      "execution_count": 11,
      "outputs": []
    },
    {
      "cell_type": "code",
      "metadata": {
        "id": "EuUYgq82p4zx",
        "colab": {
          "base_uri": "https://localhost:8080/",
          "height": 660
        },
        "outputId": "cebd542f-8aca-4707-8b4f-90e2f2d33a45"
      },
      "source": [
        "\n",
        "r=float(input(\"Enter radius\"))\n",
        "a=1.414\n",
        "i=0\n",
        "clst = []\n",
        "dlst = []\n",
        "while(i<10):\n",
        "  checkrange((a**i)*r)\n",
        "  #print('****************************')\n",
        "  i=i+1\n",
        "plt.plot(dlst,clst,'o')\n",
        "plt.title(\"Random sample\")\n",
        "plt.xlabel(\"log r\")\n",
        "plt.ylabel(\"log n/r^2\")\n",
        "plt.legend([\"a=1.414, minimum radius=0.0014\"], loc =\"lower left\")\n",
        "plt.grid()\n",
        "plt.show()\n"
      ],
      "execution_count": 12,
      "outputs": [
        {
          "output_type": "stream",
          "name": "stdout",
          "text": [
            "Enter radius0.0014\n",
            "1\n",
            "1\n",
            "2\n",
            "2\n",
            "3\n",
            "3\n",
            "4\n",
            "4\n",
            "5\n",
            "5\n",
            "6\n",
            "6\n",
            "7\n",
            "7\n",
            "8\n",
            "8\n",
            "9\n",
            "9\n",
            "10\n",
            "10\n"
          ]
        },
        {
          "output_type": "display_data",
          "data": {
            "image/png": "[encoded data removed]",
            "text/plain": [
              "<Figure size 432x288 with 1 Axes>"
            ]
          },
          "metadata": {
            "needs_background": "light"
          }
        }
      ]
    },
    {
      "cell_type": "code",
      "metadata": {
        "id": "7UxIlZsuuntE"
      },
      "source": [
        ""
      ],
      "execution_count": 17,
      "outputs": []
    }
  ]
}