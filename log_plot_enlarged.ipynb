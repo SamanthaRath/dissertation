{
  "nbformat": 4,
  "nbformat_minor": 0,
  "metadata": {
    "colab": {
      "name": "log_plot_enlarged.ipynb",
      "provenance": []
    },
    "kernelspec": {
      "name": "python3",
      "display_name": "Python 3"
    },
    "language_info": {
      "name": "python"
    }
  },
  "cells": [
    {
      "cell_type": "code",
      "metadata": {
        "id": "9nkkOJUP8h1Y"
      },
      "source": [
        "import random\n",
        "import matplotlib\n",
        "import math\n",
        "import matplotlib.pyplot as plt\n",
        "xlst = []\n",
        "ylst = []\n",
        "for i in range(0,10000):\n",
        "  x = random.random()\n",
        "  y = random.random()\n",
        "  xlst.append(x)\n",
        "  ylst.append(y)"
      ],
      "execution_count": 4,
      "outputs": []
    },
    {
      "cell_type": "code",
      "metadata": {
        "id": "2pHBQFTk8jYX"
      },
      "source": [
        "def checkrange(r):\n",
        "  n=0\n",
        "  for i in range(10000):\n",
        "    x,y = xlst[i], ylst[i]\n",
        "    s = (x-0.5)**2+(y-0.5)**2-r**2\n",
        "    #plt.plot(x,s,'o')\n",
        "    if(s<0):\n",
        "      #print(\"It is lying inside the circle\")\n",
        "      n+=1\n",
        "      #print(n)  \n",
        "  if(n>0):\n",
        "   c=math.log10(n/r**2)  \n",
        "   d=math.log10(r)\n",
        "   if(d<1):\n",
        "    clst.append(c)\n",
        "    dlst.append(d)\n",
        "    return(clst)\n",
        "    return(dlst)"
      ],
      "execution_count": 5,
      "outputs": []
    },
    {
      "cell_type": "code",
      "metadata": {
        "colab": {
          "base_uri": "https://localhost:8080/",
          "height": 312
        },
        "id": "cEReZRyN8ppn",
        "outputId": "c52f19e5-087d-4b1e-caf8-fc814b72baba"
      },
      "source": [
        "r=float(input(\"Enter the radius : \"))\n",
        "a=1.414\n",
        "i=0\n",
        "clst = []\n",
        "dlst = []\n",
        "while(i<20):\n",
        "  checkrange((a**i)*r)\n",
        "  #print('****************************')\n",
        "  i=i+1\n",
        "plt.plot(dlst,clst,'o')\n",
        "plt.title(\"Random sample\")\n",
        "plt.xlabel(\"log r\")\n",
        "plt.ylabel(\"log n/r^2\")\n",
        "plt.legend([\"a=1.414, minimum radius=0.0014\"], loc =\"lower left\")\n",
        "plt.grid()\n",
        "plt.show()"
      ],
      "execution_count": 6,
      "outputs": [
        {
          "name": "stdout",
          "output_type": "stream",
          "text": [
            "Enter the radius : 0.0014\n"
          ]
        },
        {
          "output_type": "display_data",
          "data": {
            "image/png": "[encoded data removed]",
            "text/plain": [
              "<Figure size 432x288 with 1 Axes>"
            ]
          },
          "metadata": {
            "needs_background": "light"
          }
        }
      ]
    },
    {
      "cell_type": "code",
      "metadata": {
        "id": "d8UPetEA8yyM"
      },
      "source": [
        ""
      ],
      "execution_count": null,
      "outputs": []
    }
  ]
}