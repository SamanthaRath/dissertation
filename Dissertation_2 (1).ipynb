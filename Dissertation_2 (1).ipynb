{
  "nbformat": 4,
  "nbformat_minor": 0,
  "metadata": {
    "colab": {
      "name": "Dissertation_2.ipynb",
      "provenance": []
    },
    "kernelspec": {
      "name": "python3",
      "display_name": "Python 3"
    },
    "language_info": {
      "name": "python"
    }
  },
  "cells": [
    {
      "cell_type": "code",
      "metadata": {
        "id": "z6v2MZpUlZym"
      },
      "source": [
        "import random\n",
        "import matplotlib\n",
        "import math\n",
        "import matplotlib.pyplot as plt\n",
        "xlst = []\n",
        "ylst = []\n",
        "for i in range(0,10000):\n",
        "  x = random.random()\n",
        "  y = random.random()\n",
        "  xlst.append(x)\n",
        "  ylst.append(y)"
      ],
      "execution_count": 1,
      "outputs": []
    },
    {
      "cell_type": "code",
      "metadata": {
        "id": "nlCJUyDjHkj6"
      },
      "source": [
        ""
      ],
      "execution_count": null,
      "outputs": []
    },
    {
      "cell_type": "code",
      "metadata": {
        "colab": {
          "base_uri": "https://localhost:8080/"
        },
        "id": "tXVkemi4lfFx",
        "outputId": "103cde30-776d-4ba2-9edc-24927879f65e"
      },
      "source": [
        "#print(xlst)\n",
        "#print(ylst)"
      ],
      "execution_count": null,
      "outputs": [
        {
          "output_type": "stream",
          "name": "stdout",
          "text": [
            "[0.6332807668631076, 0.12308207880355015, 0.9197004364876832, 0.43996721674675865, 0.7064293948773236, 0.3765321944693787, 0.6011921768520957, 0.2154099654826659, 0.6198129259853462, 0.2102360881436438]\n",
            "[0.08604361836968277, 0.7225251380538759, 0.017014012467221784, 0.03267957411134115, 0.9058253443802461, 0.5951712690094051, 0.35843832725114777, 0.8614419212430579, 0.6485975459524559, 0.43129057069487686]\n"
          ]
        }
      ]
    },
    {
      "cell_type": "code",
      "metadata": {
        "id": "bOLh6o01lxDY"
      },
      "source": [
        "def checkrange(r):\n",
        "  n=0\n",
        "  for i in range(10000):\n",
        "    x,y = xlst[i], ylst[i]\n",
        "    s = (x-0.5)**2+(y-0.5)**2-r**2\n",
        "    #plt.plot(x,s,'o')\n",
        "    if(s<0):\n",
        "      #print(\"It is lying inside the circle\")\n",
        "      n+=1\n",
        "      #print(n)  \n",
        "  if(n>0):\n",
        "   c=math.log10(n/r**2)  \n",
        "   d=math.log10(r)\n",
        "   clst.append(c)\n",
        "   dlst.append(d)\n",
        "   return(clst)\n",
        "   return(dlst)"
      ],
      "execution_count": 2,
      "outputs": []
    },
    {
      "cell_type": "code",
      "metadata": {
        "colab": {
          "base_uri": "https://localhost:8080/",
          "height": 329
        },
        "id": "xDcYdlucmBuJ",
        "outputId": "9d2478fd-5c5c-4c7a-d25c-d79b74e574b3"
      },
      "source": [
        "r=float(input(\"Enter the radius : \"))\n",
        "a=2\n",
        "i=0\n",
        "clst = []\n",
        "dlst = []\n",
        "while(i<20):\n",
        "  checkrange((a**i)*r)\n",
        "  #print('****************************')\n",
        "  i=i+1\n",
        "plt.plot(dlst,clst,'o')\n",
        "plt.title(\"Random sample\")\n",
        "plt.xlabel(\"log r\")\n",
        "plt.ylabel(\"log n/r^2\")\n",
        "plt.legend([\"a=2, minimum radius=0.12\"], loc =\"upper right\")\n",
        "plt.grid()\n",
        "plt.show()\n",
        "plt.show"
      ],
      "execution_count": 3,
      "outputs": [
        {
          "name": "stdout",
          "output_type": "stream",
          "text": [
            "Enter the radius : 0.12\n"
          ]
        },
        {
          "output_type": "display_data",
          "data": {
            "image/png": "[encoded data removed]",
            "text/plain": [
              "<Figure size 432x288 with 1 Axes>"
            ]
          },
          "metadata": {
            "needs_background": "light"
          }
        },
        {
          "output_type": "execute_result",
          "data": {
            "text/plain": [
              "<function matplotlib.pyplot.show>"
            ]
          },
          "metadata": {},
          "execution_count": 3
        }
      ]
    },
    {
      "cell_type": "code",
      "metadata": {
        "id": "ViMXUFHq0RAZ"
      },
      "source": [
        ""
      ],
      "execution_count": null,
      "outputs": []
    }
  ]
}