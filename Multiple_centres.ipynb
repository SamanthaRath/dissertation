{
  "nbformat": 4,
  "nbformat_minor": 0,
  "metadata": {
    "colab": {
      "name": "Multiple_centres.ipynb",
      "provenance": []
    },
    "kernelspec": {
      "name": "python3",
      "display_name": "Python 3"
    },
    "language_info": {
      "name": "python"
    }
  },
  "cells": [
    {
      "cell_type": "code",
      "metadata": {
        "id": "v1y1a4M8D26m"
      },
      "source": [
        "import random\n",
        "import matplotlib\n",
        "import math\n",
        "import matplotlib.pyplot as plt\n",
        "xlst = []\n",
        "ylst = []\n",
        "for i in range(0,10000):\n",
        "  x = random.random()\n",
        "  y = random.random()\n",
        "  xlst.append(x)\n",
        "  ylst.append(y)"
      ],
      "execution_count": 2,
      "outputs": []
    },
    {
      "cell_type": "code",
      "metadata": {
        "id": "gs6JQGUwD5O0"
      },
      "source": [
        "def checkrange(r):\n",
        "  n1=0\n",
        "  n2=0\n",
        "  n3=0\n",
        "  for i in range(10000):\n",
        "    x,y = xlst[i], ylst[i]\n",
        "    s1 = (x-0.5)**2+(y-0.5)**2-r**2\n",
        "    s2 = (x-1)**2+(y-1)**2-r**2\n",
        "    s3 = (x-0.29)**2+(y-0.29)**2-r**2\n",
        "    \n",
        "    if(s1<0):\n",
        "     n1+=1\n",
        "    if(s2<0):\n",
        "      n2+=1 \n",
        "    if(s3<0):\n",
        "      n3+=1 \n",
        "  if(n1>0):\n",
        "   c1=math.log10(n1)  \n",
        "   d1=math.log10(r)\n",
        "   c1lst.append(c1)\n",
        "   d1lst.append(d1)\n",
        "  if(n2>0):\n",
        "   c2=math.log10(n2)  \n",
        "   d2=math.log10(r)\n",
        "   c2lst.append(c2)\n",
        "   d2lst.append(d2)\n",
        "  if(n3>0):\n",
        "   c3=math.log10(n3)  \n",
        "   d3=math.log10(r)\n",
        "   c3lst.append(c3)\n",
        "   d3lst.append(d3)\n",
        "  return(c1lst,d1lst,c2lst,d2lst,c3lst,d3lst)"
      ],
      "execution_count": 5,
      "outputs": []
    },
    {
      "cell_type": "code",
      "metadata": {
        "colab": {
          "base_uri": "https://localhost:8080/",
          "height": 383
        },
        "id": "N5MDpCcTErrc",
        "outputId": "66a085f5-d821-41fb-8c96-9c8ebe4e0769"
      },
      "source": [
        "r=float(input(\"Enter the radius : \"))\n",
        "a=2\n",
        "i=0\n",
        "c1lst = []\n",
        "d1lst = []\n",
        "c2lst=[]\n",
        "d2lst=[]\n",
        "c3lst=[]\n",
        "d3lst=[]\n",
        "while(i<20):\n",
        "  checkrange((a**i)*r)\n",
        "  #print('****************************')\n",
        "  i=i+1\n",
        "print(c1lst)\n",
        "print(c2lst)\n",
        "print(c3lst)\n",
        "plt.plot(d1lst,c1lst,'o',color='r')\n",
        "plt.plot(d2lst,c2lst,'o',color='g')\n",
        "plt.plot(d3lst,c3lst,'o',color='b')\n",
        "plt.title(\"Random sample\")\n",
        "plt.xlabel(\"log r\")\n",
        "plt.ylabel(\"log n\")\n",
        "plt.legend([\"a=2, minimum radius=0.0014\"], loc =\"lower right\")\n",
        "plt.grid()\n",
        "plt.show()"
      ],
      "execution_count": 6,
      "outputs": [
        {
          "output_type": "stream",
          "name": "stdout",
          "text": [
            "Enter the radius : 0.0014\n",
            "[0.0, 0.0, 0.3010299956639812, 0.9030899869919435, 1.380211241711606, 1.9030899869919435, 2.432969290874406, 2.9978230807457256, 3.6029277128591892, 4.0, 4.0, 4.0, 4.0, 4.0, 4.0, 4.0, 4.0, 4.0, 4.0, 4.0]\n",
            "[0.0, 0.3010299956639812, 1.146128035678238, 1.8325089127062364, 2.424881636631067, 3.0232524596337114, 3.615002614524588, 4.0, 4.0, 4.0, 4.0, 4.0, 4.0, 4.0, 4.0, 4.0, 4.0]\n",
            "[0.3010299956639812, 0.6020599913279624, 1.1139433523068367, 1.7558748556724915, 2.4183012913197452, 2.9951962915971793, 3.5594277997594896, 3.9479725792457803, 4.0, 4.0, 4.0, 4.0, 4.0, 4.0, 4.0, 4.0, 4.0, 4.0]\n"
          ]
        },
        {
          "output_type": "display_data",
          "data": {
            "image/png": "[encoded data removed]",
            "text/plain": [
              "<Figure size 432x288 with 1 Axes>"
            ]
          },
          "metadata": {
            "needs_background": "light"
          }
        }
      ]
    },
    {
      "cell_type": "code",
      "metadata": {
        "id": "Qp3nt5PpExuR"
      },
      "source": [
        ""
      ],
      "execution_count": null,
      "outputs": []
    }
  ]
}