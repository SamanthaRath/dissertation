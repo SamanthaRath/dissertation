{
  "nbformat": 4,
  "nbformat_minor": 0,
  "metadata": {
    "colab": {
      "name": "3dplot.ipynb",
      "provenance": []
    },
    "kernelspec": {
      "name": "python3",
      "display_name": "Python 3"
    },
    "language_info": {
      "name": "python"
    }
  },
  "cells": [
    {
      "cell_type": "code",
      "metadata": {
        "id": "mnEPg0BncyQw"
      },
      "source": [
        "import random\n",
        "import matplotlib\n",
        "import math\n",
        "import matplotlib.pyplot as plt\n",
        "xlst = []\n",
        "ylst = []\n",
        "zlst = []\n",
        "for i in range(0,1000000):\n",
        "  x = random.random()\n",
        "  y = random.random()\n",
        "  z = random.random()\n",
        "  xlst.append(x)\n",
        "  ylst.append(y)\n",
        "  zlst.append(z)"
      ],
      "execution_count": 4,
      "outputs": []
    },
    {
      "cell_type": "code",
      "metadata": {
        "id": "m88oUSxSc20C"
      },
      "source": [
        "def checkrange(r):\n",
        "  n=0\n",
        "  for i in range(1000000):\n",
        "    x,y,z = xlst[i], ylst[i], zlst[i]\n",
        "    s = (x-0.5)**2+(y-0.5)**2+(z-0.5)**2-r**2\n",
        "    #plt.plot(x,s,'o')\n",
        "    if(s<0):\n",
        "      #print(\"It is lying inside the circle\")\n",
        "      n+=1\n",
        "      #print(n)  \n",
        "  if(n>0):\n",
        "   c=math.log10(n/r**3)  \n",
        "   d=math.log10(r)\n",
        "   clst.append(c)\n",
        "   dlst.append(d)\n",
        "   return(clst)\n",
        "   return(dlst)"
      ],
      "execution_count": 5,
      "outputs": []
    },
    {
      "cell_type": "code",
      "metadata": {
        "colab": {
          "base_uri": "https://localhost:8080/",
          "height": 312
        },
        "id": "zQQkWinTdO4m",
        "outputId": "6074916b-7fc8-4099-c08b-07a2dce311d9"
      },
      "source": [
        "r=float(input(\"Enter the radius : \"))\n",
        "a=1.414\n",
        "i=0\n",
        "clst = []\n",
        "dlst = []\n",
        "while(i<20):\n",
        "  checkrange((a**i)*r)\n",
        "  #print('****************************')\n",
        "  i=i+1\n",
        "plt.plot(dlst,clst,'o')\n",
        "plt.title(\"Random sample\")\n",
        "plt.xlabel(\"log r\")\n",
        "plt.ylabel(\"log n/r^3\")\n",
        "plt.legend([\"a=1.414, minimum radius=0.0014\"], loc =\"lower left\")\n",
        "plt.grid()\n",
        "plt.show()"
      ],
      "execution_count": 6,
      "outputs": [
        {
          "name": "stdout",
          "output_type": "stream",
          "text": [
            "Enter the radius : 0.0014\n"
          ]
        },
        {
          "output_type": "display_data",
          "data": {
            "image/png": "[encoded data removed]",
            "text/plain": [
              "<Figure size 432x288 with 1 Axes>"
            ]
          },
          "metadata": {
            "needs_background": "light"
          }
        }
      ]
    },
    {
      "cell_type": "code",
      "metadata": {
        "id": "1maJu_9peKSa"
      },
      "source": [
        ""
      ],
      "execution_count": null,
      "outputs": []
    },
    {
      "cell_type": "code",
      "metadata": {
        "id": "YCsCCpYyeJsW"
      },
      "source": [
        ""
      ],
      "execution_count": null,
      "outputs": []
    }
  ]
}